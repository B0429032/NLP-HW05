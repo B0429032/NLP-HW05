{
 "cells": [
  {
   "cell_type": "code",
   "execution_count": null,
   "metadata": {},
   "outputs": [
    {
     "name": "stdout",
     "output_type": "stream",
     "text": [
      "第一步\n",
      "第二步\n"
     ]
    },
    {
     "name": "stderr",
     "output_type": "stream",
     "text": [
      "Building prefix dict from C:\\Users\\Kunying\\Desktop\\冠勳資料\\109-2課程\\線上校外實習\\HW01\\dict.txt.big.txt ...\n",
      "Loading model from cache C:\\Users\\Kunying\\AppData\\Local\\Temp\\jieba.ua30e78a53c4364a7b767b534b0d99c47.cache\n"
     ]
    },
    {
     "name": "stdout",
     "output_type": "stream",
     "text": [
      "第三步\n"
     ]
    },
    {
     "name": "stderr",
     "output_type": "stream",
     "text": [
      "Loading model cost 1.630 seconds.\n",
      "Prefix dict has been built successfully.\n"
     ]
    },
    {
     "name": "stdout",
     "output_type": "stream",
     "text": [
      "100000\n",
      "200000\n",
      "300000\n",
      "400000\n",
      "500000\n",
      "600000\n",
      "700000\n",
      "800000\n",
      "900000\n",
      "1000000\n",
      "1100000\n",
      "1200000\n",
      "1300000\n",
      "1400000\n",
      "1500000\n",
      "1600000\n",
      "1700000\n",
      "1800000\n",
      "1900000\n",
      "2000000\n",
      "2100000\n",
      "2200000\n",
      "2300000\n",
      "2400000\n",
      "2500000\n",
      "2600000\n",
      "2700000\n",
      "2800000\n",
      "2900000\n",
      "3000000\n",
      "3100000\n",
      "3200000\n",
      "3300000\n"
     ]
    }
   ],
   "source": [
    "import jieba\n",
    "import jieba.analyse\n",
    "import numpy as np\n",
    "import csv\n",
    "from collections import Counter\n",
    "text = open('hw1-dataset.txt', \"r\",encoding=\"utf-8\").read()  #讀文字資料\n",
    "n = 0\n",
    "print(\"第一步\")\n",
    "jieba.set_dictionary('dict.txt.big.txt')\n",
    "with open('dictionary/stopWord_cloudmod.txt', 'r', encoding='utf-8-sig') as f:#設定停用詞\n",
    "    stops = f.read().split('\\n')\n",
    "print(\"第二步\")\n",
    "terms = []  #儲存字詞\n",
    "print(\"第三步\")\n",
    "for t in jieba.cut(text, cut_all=False):  #拆解句子為字詞\n",
    "    if t not in stops:  #不是停用詞\n",
    "        terms.append(t)\n",
    "        n=n+1\n",
    "        if n %100000 ==0:\n",
    "            print(n)\n",
    "diction = Counter(terms)\n",
    "# 可列印詞的統計數\n",
    "print(n)\n",
    "print(t)\n",
    "print(diction)"
   ]
  },
  {
   "cell_type": "code",
   "execution_count": null,
   "metadata": {},
   "outputs": [],
   "source": []
  },
  {
   "cell_type": "code",
   "execution_count": null,
   "metadata": {},
   "outputs": [],
   "source": []
  }
 ],
 "metadata": {
  "kernelspec": {
   "display_name": "Python 3",
   "language": "python",
   "name": "python3"
  },
  "language_info": {
   "codemirror_mode": {
    "name": "ipython",
    "version": 3
   },
   "file_extension": ".py",
   "mimetype": "text/x-python",
   "name": "python",
   "nbconvert_exporter": "python",
   "pygments_lexer": "ipython3",
   "version": "3.7.1"
  }
 },
 "nbformat": 4,
 "nbformat_minor": 2
}
